{
 "cells": [
  {
   "cell_type": "markdown",
   "metadata": {},
   "source": [
    "# PySAM Workshop\n",
    "\n",
    "Oct 14, 2020\n",
    "\n",
    "dguittet\n",
    "\n",
    "https://sam.nrel.gov/software-development-kit-sdk/pysam.html\n",
    "\n",
    "Edit: Most recently tested with Version 4.1.0"
   ]
  },
  {
   "cell_type": "markdown",
   "metadata": {},
   "source": [
    "## How to Get Started\n",
    "\n",
    "64-bit Python 3.6-3.8 for Linux, Mac and Windows\n",
    "\n",
    "PyPi: \n",
    "```\n",
    "pip install nrel-pysam\n",
    "```\n",
    "\n",
    "Anaconda:\n",
    "```\n",
    "conda install -c nrel nrel-pysam\n",
    "```"
   ]
  },
  {
   "cell_type": "markdown",
   "metadata": {},
   "source": [
    "## Model Initialization\n",
    "\n",
    "Each technology and financial configuration is composed of unit modules. Module documentation is in [Modules](https://nrel-pysam.readthedocs.io/en/master/Models.html) or refer to [Module Index](https://nrel-pysam.readthedocs.io/en/master/py-modindex.html). \n",
    "\n",
    "Each module can be imported by:\n",
    "\n",
    "```\n",
    "import PySAM.<Module name>\n",
    "```\n",
    "\n",
    "There are four ways to initialize a model:\n",
    "\n",
    "1. new\n",
    "2. default\n",
    "3. from_existing\n",
    "4. wrap\n"
   ]
  },
  {
   "cell_type": "code",
   "execution_count": 1,
   "metadata": {},
   "outputs": [],
   "source": [
    "import PySAM.Pvwattsv8 as pv\n",
    "import PySAM.Utilityrate5 as ur"
   ]
  },
  {
   "cell_type": "markdown",
   "metadata": {},
   "source": [
    "### New\n",
    "\n",
    "Creates an instance with empty attributes."
   ]
  },
  {
   "cell_type": "code",
   "execution_count": 2,
   "metadata": {},
   "outputs": [
    {
     "name": "stdout",
     "output_type": "stream",
     "text": [
      "<class 'Pvwattsv8'>\n"
     ]
    },
    {
     "data": {
      "text/plain": [
       "{'SolarResource': {},\n",
       " 'Lifetime': {},\n",
       " 'SystemDesign': {},\n",
       " 'AdjustmentFactors': {},\n",
       " 'Outputs': {}}"
      ]
     },
     "execution_count": 2,
     "metadata": {},
     "output_type": "execute_result"
    }
   ],
   "source": [
    "new_model = pv.new()\n",
    "print(type(new_model))\n",
    "new_model.export()"
   ]
  },
  {
   "cell_type": "markdown",
   "metadata": {},
   "source": [
    "### Default\n",
    "\n",
    "There is a lot of data needed to run a model. Entering that data with assignment statements in PySAM can be tedious. One way to get a full set of data is to load the default setup, which are the same as in SAM. A module's default values are unique for each SAM configuration type. \n",
    "\n",
    "Default config names are __case insensitive__. The list of options can be found on the module's PySAM doc page or as below:"
   ]
  },
  {
   "cell_type": "code",
   "execution_count": 3,
   "metadata": {},
   "outputs": [
    {
     "name": "stdout",
     "output_type": "stream",
     "text": [
      "Help on built-in function default in module PySAM.Pvwattsv8:\n",
      "\n",
      "default(...)\n",
      "    default(config) -> Pvwattsv8\n",
      "    \n",
      "    Load defaults for the configuration ``config``. Available configurations are:\n",
      "    \n",
      "                    - *\"FuelCellCommercial\"*\n",
      "    \n",
      "                    - *\"FuelCellSingleOwner\"*\n",
      "    \n",
      "                    - *\"PVWattsBatteryCommercial\"*\n",
      "    \n",
      "                    - *\"PVWattsBatteryHostDeveloper\"*\n",
      "    \n",
      "                    - *\"PVWattsBatteryResidential\"*\n",
      "    \n",
      "                    - *\"PVWattsBatteryThirdParty\"*\n",
      "    \n",
      "                    - *\"PVWattsAllEquityPartnershipFlip\"*\n",
      "    \n",
      "                    - *\"PVWattsCommercial\"*\n",
      "    \n",
      "                    - *\"PVWattsCommunitySolar\"*\n",
      "    \n",
      "                    - *\"PVWattsHostDeveloper\"*\n",
      "    \n",
      "                    - *\"PVWattsLCOECalculator\"*\n",
      "    \n",
      "                    - *\"PVWattsLeveragedPartnershipFlip\"*\n",
      "    \n",
      "                    - *\"PVWattsMerchantPlant\"*\n",
      "    \n",
      "                    - *\"PVWattsNone\"*\n",
      "    \n",
      "                    - *\"PVWattsResidential\"*\n",
      "    \n",
      "                    - *\"PVWattsSaleLeaseback\"*\n",
      "    \n",
      "                    - *\"PVWattsSingleOwner\"*\n",
      "    \n",
      "                    - *\"PVWattsThirdParty\"*\n",
      "    \n",
      "    .. note::\n",
      "    \n",
      "            Some inputs do not have default values and may be assigned a value from the variable's **Required** attribute. See variable attribute descriptions below.\n",
      "\n"
     ]
    }
   ],
   "source": [
    "# list configuration options\n",
    "help(pv.default)"
   ]
  },
  {
   "cell_type": "code",
   "execution_count": 4,
   "metadata": {},
   "outputs": [
    {
     "data": {
      "text/plain": [
       "{'SolarResource': {'albedo': (0.2,\n",
       "   0.2,\n",
       "   0.2,\n",
       "   0.2,\n",
       "   0.2,\n",
       "   0.2,\n",
       "   0.2,\n",
       "   0.2,\n",
       "   0.2,\n",
       "   0.2,\n",
       "   0.2,\n",
       "   0.2),\n",
       "  'use_wf_albedo': 1.0},\n",
       " 'Lifetime': {'analysis_period': 25.0,\n",
       "  'dc_degradation': (0.5,),\n",
       "  'system_use_lifetime_output': 1.0},\n",
       " 'SystemDesign': {'array_type': 1.0,\n",
       "  'azimuth': 180.0,\n",
       "  'batt_simple_enable': 0.0,\n",
       "  'bifaciality': 0.0,\n",
       "  'dc_ac_ratio': 1.15,\n",
       "  'en_snowloss': 0.0,\n",
       "  'gcr': 0.3,\n",
       "  'inv_eff': 96.0,\n",
       "  'losses': 14.0757,\n",
       "  'module_type': 0.0,\n",
       "  'soiling': (0.0, 0.0, 0.0, 0.0, 0.0, 0.0, 0.0, 0.0, 0.0, 0.0, 0.0, 0.0),\n",
       "  'system_capacity': 215.0,\n",
       "  'tilt': 20.0},\n",
       " 'AdjustmentFactors': {'constant': 0.0},\n",
       " 'Outputs': {}}"
      ]
     },
     "execution_count": 4,
     "metadata": {},
     "output_type": "execute_result"
    }
   ],
   "source": [
    "default_model = pv.default(\"FuelCellCommercial\")\n",
    "default_model.export()"
   ]
  },
  {
   "cell_type": "markdown",
   "metadata": {},
   "source": [
    "This is good if your situation is close to the default.\n",
    "\n",
    "Often, however, this is not the case. When your setup is significantly different than the default,\n",
    "you can enter the data using SAM, and save that data to a JSON file, which can then be loaded by PySAM.\n",
    "You can then modify and use the data in PySAM as needed. This is shown in [To import a case from the SAM GUI](https://nrel-pysam.readthedocs.io/en/master/Import.html) and was a subject of last year's webinar.\n",
    "\n",
    "### from_existing\n",
    "\n",
    "When running more than one unit module in a sequence, data needs to get passed from one to the subsequent models. For example, a technology module's `analysis_period` and generation profile `gen`, are inputs to the utility rate calculator in order to calculate the `annual_energy_value`, the energy value in each year of the analysis period due to electricity bill savings.\n",
    "\n",
    "`from_existing` is used create a new model that shares the underlying data with an existing model. This new model can be created with default values if a default configuration name is provided, similar to ``default``."
   ]
  },
  {
   "cell_type": "code",
   "execution_count": 5,
   "metadata": {},
   "outputs": [
    {
     "name": "stdout",
     "output_type": "stream",
     "text": [
      "25.0\n",
      "25.0\n"
     ]
    }
   ],
   "source": [
    "shared_model = ur.from_existing(default_model, \"FuelCellCommercial\")\n",
    "print(default_model.Lifetime.analysis_period)\n",
    "print(shared_model.Lifetime.analysis_period)"
   ]
  },
  {
   "cell_type": "code",
   "execution_count": 6,
   "metadata": {},
   "outputs": [
    {
     "name": "stdout",
     "output_type": "stream",
     "text": [
      "20.0\n",
      "20.0\n"
     ]
    }
   ],
   "source": [
    "# change in analysis period reflected in both models\n",
    "default_model.Lifetime.analysis_period = 20\n",
    "print(default_model.Lifetime.analysis_period)\n",
    "print(shared_model.Lifetime.analysis_period)"
   ]
  },
  {
   "cell_type": "markdown",
   "metadata": {},
   "source": [
    "All variables and their values, including inputs and outputs (after model execution), are shared between models linked in this way. When the PV model below is executed, its outputs will automatically be available to the Utility rate model. __Order of execution matters.__\n",
    "\n",
    "Simulation data is passed between unit modules when the name of a unit module's output is the same as another unit module's input, such as `gen`. __The group names can be different.__ "
   ]
  },
  {
   "cell_type": "code",
   "execution_count": 7,
   "metadata": {},
   "outputs": [
    {
     "data": {
      "text/plain": [
       "(0.0,)"
      ]
     },
     "execution_count": 7,
     "metadata": {},
     "output_type": "execute_result"
    }
   ],
   "source": [
    "# gen doesn't exist yet because simulation hasn't been executed\n",
    "default_model.Outputs.gen"
   ]
  },
  {
   "cell_type": "code",
   "execution_count": 8,
   "metadata": {},
   "outputs": [
    {
     "name": "stdout",
     "output_type": "stream",
     "text": [
      "utilityrate5 execution error.\n",
      "\texec fail(utilityrate5): invalid number of gen records (0): must be an integer multiple of 8760\n",
      "\n",
      "\n"
     ]
    }
   ],
   "source": [
    "# can't calculate utility rate value without a generation profile\n",
    "try:\n",
    "    shared_model.execute(0)\n",
    "except Exception as e:\n",
    "    print(e)"
   ]
  },
  {
   "cell_type": "code",
   "execution_count": 9,
   "metadata": {},
   "outputs": [
    {
     "name": "stdout",
     "output_type": "stream",
     "text": [
      "gen\n",
      " (0.0, 0.0, 0.0, 0.0, 0.0, -0.0, 6.389046797900428, 37.94398351785478, 67.06449907636099, 92.89776429848214)\n",
      "\n",
      "annual energy value\n",
      " (0.0, 19406.19405690556, 19800.52382533316, 20202.44148167006, 20612.079886380227, 21029.57424662404, 21455.061069906493, 21888.678750448922, 22330.56790184979, 22780.871493923893, 23239.73432549519, 23707.302537008927, 24183.72454046737, 24669.151054164817, 25162.80184412058, 25665.452721768244, 26177.509583152998, 26699.12880537708, 27230.46804522286, 27771.6872915576, 28322.60044366972)\n"
     ]
    }
   ],
   "source": [
    "# execute PV then utility rate calculations\n",
    "default_model.SolarResource.solar_resource_file = \"/Users/dguittet/SAM Downloaded Weather Files/weather.csv\"\n",
    "default_model.execute(0)\n",
    "print('gen\\n', default_model.Outputs.gen[0:10])\n",
    "\n",
    "shared_model.execute(0)\n",
    "print('\\nannual energy value\\n', shared_model.Outputs.annual_energy_value)"
   ]
  },
  {
   "cell_type": "markdown",
   "metadata": {},
   "source": [
    "### wrap\n",
    "\n",
    "Creates a model from a PySSC data structure. This allows compatibility with PySSC. \n",
    "\n",
    "This is used primarily during data import from SAM via JSON. This import feature was covered in the [2019 PySAM Webinar](https://sam.nrel.gov/software-development-kit-sdk/pysam.html) and is also shown in [To import a case from the SAM GUI](https://nrel-pysam.readthedocs.io/en/master/Import.html)."
   ]
  },
  {
   "cell_type": "code",
   "execution_count": 10,
   "metadata": {},
   "outputs": [
    {
     "data": {
      "text/plain": [
       "{'SolarResource': {},\n",
       " 'Lifetime': {'analysis_period': 10.0},\n",
       " 'SystemDesign': {},\n",
       " 'AdjustmentFactors': {},\n",
       " 'Outputs': {}}"
      ]
     },
     "execution_count": 10,
     "metadata": {},
     "output_type": "execute_result"
    }
   ],
   "source": [
    "import PySAM.PySSC as pyssc\n",
    "\n",
    "ssc = pyssc.PySSC()\n",
    "pv_dat = ssc.data_create()\n",
    "ssc.data_set_number(pv_dat, b'analysis_period', 10)\n",
    "\n",
    "wrap_model = pv.wrap(pv_dat)\n",
    "wrap_model.export()"
   ]
  },
  {
   "cell_type": "markdown",
   "metadata": {},
   "source": [
    "## Detailed PV-Battery - Commercial Owner Example"
   ]
  },
  {
   "cell_type": "code",
   "execution_count": 11,
   "metadata": {},
   "outputs": [
    {
     "name": "stdout",
     "output_type": "stream",
     "text": [
      "4.1.0\n"
     ]
    }
   ],
   "source": [
    "import PySAM.Pvsamv1 as pvsam\n",
    "import PySAM.Grid as grid\n",
    "import PySAM.Utilityrate5 as ur\n",
    "import PySAM.Cashloan as cl\n",
    "import PySAM\n",
    "\n",
    "print(PySAM.__version__)"
   ]
  },
  {
   "cell_type": "code",
   "execution_count": 12,
   "metadata": {},
   "outputs": [
    {
     "name": "stdout",
     "output_type": "stream",
     "text": [
      "17520\n"
     ]
    }
   ],
   "source": [
    "# get all years of weather data\n",
    "import glob\n",
    "import random\n",
    "import PySAM.ResourceTools as tools\n",
    "from PySAM.BatteryTools import battery_model_sizing\n",
    "\n",
    "weather_folder = \"/Users/dguittet/SAM Downloaded Weather Files/lexington_or/\"\n",
    "weather_files = glob.glob(weather_folder + \"/*.csv\")\n",
    "\n",
    "# load data from file into dictionaries\n",
    "weather_data = [tools.SAM_CSV_to_solar_data(f) for f in weather_files]\n",
    "steps_per_year = len(weather_data[0]['year'])\n",
    "print(steps_per_year)\n",
    "\n",
    "# initialize all models\n",
    "pvbatt_model = pvsam.default(\"PVBatteryCommercial\")\n",
    "grid_model = grid.from_existing(pvbatt_model, \"PVBatteryCommercial\")\n",
    "ur_model = ur.from_existing(pvbatt_model, \"PVBatteryCommercial\")\n",
    "cl_model = cl.from_existing(pvbatt_model, \"PVBatteryCommercial\")\n",
    "\n",
    "# change simulation settings\n",
    "pvbatt_model.Lifetime.analysis_period = 1\n",
    "pvbatt_model.value(\"batt_room_temperature_celsius\", (25,) * steps_per_year)\n",
    "pvbatt_model.BatteryDispatch.batt_dispatch_choice = 0  # peak shaving"
   ]
  },
  {
   "cell_type": "code",
   "execution_count": 13,
   "metadata": {},
   "outputs": [
    {
     "name": "stdout",
     "output_type": "stream",
     "text": [
      "batt_kw\tbatt_kwh\tavg_npv\n",
      "10\t40\t-131785.9623201237\n",
      "20\t80\t-128677.60802359802\n",
      "30\t120\t-126139.5470983437\n",
      "40\t160\t-124008.21375974927\n"
     ]
    }
   ],
   "source": [
    "def installed_cost(pv_kw, battery_kw, battery_kwh):\n",
    "    return pv_kw * 700 + battery_kw * 600 + battery_kwh * 300\n",
    "\n",
    "print(\"batt_kw\\tbatt_kwh\\tavg_npv\")\n",
    "for battery_kw in range(10, 100, 10):\n",
    "    battery_kwh = 4 * battery_kw  # four hour battery\n",
    "    battery_model_sizing(pvbatt_model, battery_kw, battery_kwh, 500)\n",
    "    \n",
    "    npvs = []\n",
    "    for solar_resource_data in weather_data:\n",
    "        \n",
    "        pvbatt_model.SolarResource.solar_resource_data = solar_resource_data\n",
    "        pvbatt_model.execute(1)\n",
    "        \n",
    "        grid_model.execute(0)\n",
    "        \n",
    "        ur_model.execute(0)\n",
    "        \n",
    "        cl_model.total_installed_cost = installed_cost(pvbatt_model.SystemDesign.system_capacity, battery_kw, battery_kwh)\n",
    "        cl_model.execute(0)\n",
    "        \n",
    "        npvs.append(cl_model.Outputs.npv)\n",
    "        \n",
    "    avg_npv = sum(npvs) / len(npvs)\n",
    "    print(\"{}\\t{}\\t{}\".format(battery_kw, battery_kwh, avg_npv))"
   ]
  }
 ],
 "metadata": {
  "kernelspec": {
   "display_name": "Python 3",
   "language": "python",
   "name": "python3"
  },
  "language_info": {
   "codemirror_mode": {
    "name": "ipython",
    "version": 3
   },
   "file_extension": ".py",
   "mimetype": "text/x-python",
   "name": "python",
   "nbconvert_exporter": "python",
   "pygments_lexer": "ipython3",
   "version": "3.7.6"
  },
  "vscode": {
   "interpreter": {
    "hash": "bde388c9b59212dbf36b7a84237a74ca6442a58f2ad0166ebf47f299acdcc48a"
   }
  }
 },
 "nbformat": 4,
 "nbformat_minor": 4
}
