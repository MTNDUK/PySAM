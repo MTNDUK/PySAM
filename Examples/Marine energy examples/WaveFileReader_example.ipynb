{
 "cells": [
  {
   "cell_type": "markdown",
   "metadata": {},
   "source": [
    "#WaveFileReader Example\n",
    "\n",
    "##Example of how to run WaveFileReader to read wave resource files containing \n",
    "##either probability distributions of wave resource or 3-hour time series arrays"
   ]
  },
  {
   "cell_type": "code",
   "execution_count": 8,
   "metadata": {},
   "outputs": [],
   "source": [
    "import PySAM.MhkWave as mhk\n",
    "import PySAM.WaveFileReader as wavefile"
   ]
  },
  {
   "cell_type": "code",
   "execution_count": 9,
   "metadata": {},
   "outputs": [],
   "source": [
    "system_model = mhk.default(\"MEwaveLCOECalculator\")\n",
    "financial_model = mhk.from_existing(system_model, \"MEwaveLCOECalculator\")\n",
    "#system_model.unassign(\"wave_resource_matrix\")\n",
    "wavefile_model = wavefile.default(\"MEwaveLCOECalculator\")"
   ]
  },
  {
   "cell_type": "code",
   "execution_count": 10,
   "metadata": {},
   "outputs": [],
   "source": [
    "#Read in Probability distribution filename\n",
    "wavefile_model.WeatherReader.wave_resource_filename = \"CalWave_California_Wave Resource _SAM CSV.csv\"\n",
    "wavefile_model.WeatherReader.wave_resource_model_choice = 0\n",
    "wavefile_model.execute() #Read in resource file, output matrix to pass to wave performance module"
   ]
  },
  {
   "cell_type": "code",
   "execution_count": 12,
   "metadata": {},
   "outputs": [
    {
     "name": "stdout",
     "output_type": "stream",
     "text": [
      "60785058.94919998 kWh\n"
     ]
    }
   ],
   "source": [
    "wave_resource_matrix = wavefile_model.Outputs.wave_resource_matrix #21x22 matrix output of WaveFileReader\n",
    "system_model.MHKWave.wave_resource_model_choice = wavefile_model.WeatherReader.wave_resource_model_choice #Same input for file reader and performance model\n",
    "system_model.MHKWave.wave_resource_matrix = wave_resource_matrix #pass in matrix as input\n",
    "system_model.execute()\n",
    "print(system_model.Outputs.annual_energy, \"kWh\")"
   ]
  },
  {
   "cell_type": "code",
   "execution_count": 13,
   "metadata": {},
   "outputs": [],
   "source": [
    "#Reset the module\n",
    "system_model = mhk.default(\"MEwaveLCOECalculator\")\n",
    "financial_model = mhk.from_existing(system_model, \"MEwaveLCOECalculator\")\n",
    "#system_model.unassign(\"wave_resource_matrix\")\n",
    "wavefile_model = wavefile.default(\"MEwaveLCOECalculator\")"
   ]
  },
  {
   "cell_type": "code",
   "execution_count": 14,
   "metadata": {},
   "outputs": [],
   "source": [
    "wavefile_model.WeatherReader.wave_resource_filename_ts = \"Wave_resource_timeseries.csv\"\n",
    "wavefile_model.WeatherReader.wave_resource_model_choice = 1\n",
    "wavefile_model.execute() #Read in resource file, output time series arrays to pass to wave performance module"
   ]
  },
  {
   "cell_type": "code",
   "execution_count": 18,
   "metadata": {},
   "outputs": [
    {
     "ename": "AttributeError",
     "evalue": "'MhkWave.MHKWave' object has no attribute 'year'",
     "output_type": "error",
     "traceback": [
      "\u001b[1;31m---------------------------------------------------------------------------\u001b[0m",
      "\u001b[1;31mAttributeError\u001b[0m                            Traceback (most recent call last)",
      "\u001b[1;32m<ipython-input-18-e89a2f7adec7>\u001b[0m in \u001b[0;36m<module>\u001b[1;34m\u001b[0m\n\u001b[0;32m      9\u001b[0m \u001b[0msystem_model\u001b[0m\u001b[1;33m.\u001b[0m\u001b[0mMHKWave\u001b[0m\u001b[1;33m.\u001b[0m\u001b[0msignificant_wave_height\u001b[0m \u001b[1;33m=\u001b[0m \u001b[0msignificant_wave_height\u001b[0m \u001b[1;31m#array, length 2920\u001b[0m\u001b[1;33m\u001b[0m\u001b[1;33m\u001b[0m\u001b[0m\n\u001b[0;32m     10\u001b[0m \u001b[0msystem_model\u001b[0m\u001b[1;33m.\u001b[0m\u001b[0mMHKWave\u001b[0m\u001b[1;33m.\u001b[0m\u001b[0menergy_period\u001b[0m \u001b[1;33m=\u001b[0m \u001b[0menergy_period\u001b[0m \u001b[1;31m#array, length 2920\u001b[0m\u001b[1;33m\u001b[0m\u001b[1;33m\u001b[0m\u001b[0m\n\u001b[1;32m---> 11\u001b[1;33m \u001b[0msystem_model\u001b[0m\u001b[1;33m.\u001b[0m\u001b[0mMHKWave\u001b[0m\u001b[1;33m.\u001b[0m\u001b[0myear\u001b[0m \u001b[1;33m=\u001b[0m \u001b[0myear\u001b[0m\u001b[1;33m\u001b[0m\u001b[1;33m\u001b[0m\u001b[0m\n\u001b[0m\u001b[0;32m     12\u001b[0m \u001b[0msystem_model\u001b[0m\u001b[1;33m.\u001b[0m\u001b[0mMHKWave\u001b[0m\u001b[1;33m.\u001b[0m\u001b[0mmonth\u001b[0m \u001b[1;33m=\u001b[0m \u001b[0mmonth\u001b[0m\u001b[1;33m\u001b[0m\u001b[1;33m\u001b[0m\u001b[0m\n\u001b[0;32m     13\u001b[0m \u001b[0msystem_model\u001b[0m\u001b[1;33m.\u001b[0m\u001b[0mMHKWave\u001b[0m\u001b[1;33m.\u001b[0m\u001b[0mday\u001b[0m \u001b[1;33m=\u001b[0m \u001b[0mday\u001b[0m\u001b[1;33m\u001b[0m\u001b[1;33m\u001b[0m\u001b[0m\n",
      "\u001b[1;31mAttributeError\u001b[0m: 'MhkWave.MHKWave' object has no attribute 'year'"
     ]
    }
   ],
   "source": [
    "significant_wave_height = wavefile_model.Outputs.significant_wave_height\n",
    "energy_period = wavefile_model.Outputs.energy_period\n",
    "year = wavefile_model.Outputs.year\n",
    "month = wavefile_model.Outputs.month\n",
    "day = wavefile_model.Outputs.day\n",
    "hour = wavefile_model.Outputs.hour\n",
    "minute = wavefile_model.Outputs.minute\n",
    "system_model.MHKWave.wave_resource_model_choice = 1\n",
    "system_model.MHKWave.significant_wave_height = significant_wave_height #array, length 2920\n",
    "system_model.MHKWave.energy_period = energy_period #array, length 2920\n",
    "system_model.MHKWave.year = year\n",
    "system_model.MHKWave.month = month\n",
    "system_model.MHKWave.day = day\n",
    "system_model.MHKWave.hour = hour\n",
    "system_model.MHKWave.minute = minute\n",
    "system_model.execute()\n",
    "print(system_model.Outputs.annual_energy, \"kWh\")"
   ]
  }
 ],
 "metadata": {
  "kernelspec": {
   "display_name": "Python 3",
   "language": "python",
   "name": "python3"
  },
  "language_info": {
   "codemirror_mode": {
    "name": "ipython",
    "version": 3
   },
   "file_extension": ".py",
   "mimetype": "text/x-python",
   "name": "python",
   "nbconvert_exporter": "python",
   "pygments_lexer": "ipython3",
   "version": "3.7.6"
  }
 },
 "nbformat": 4,
 "nbformat_minor": 4
}
