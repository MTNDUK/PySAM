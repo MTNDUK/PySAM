{
 "cells": [
  {
   "cell_type": "code",
   "execution_count": 1,
   "metadata": {},
   "outputs": [],
   "source": [
    "import PySAM.MhkWave as mhk\n",
    "import PySAM.WaveFileReader as wavefile\n",
    "import pandas as pd\n",
    "import numpy as np\n",
    "import csv\n",
    "import os\n",
    "\n",
    "from collections import defaultdict\n",
    "import concurrent.futures as cf\n",
    "import io\n",
    "import requests\n",
    "import copy\n",
    "from requests.adapters import HTTPAdapter\n",
    "from requests.packages.urllib3.util.retry import Retry\n",
    "\n",
    "import json"
   ]
  },
  {
   "cell_type": "code",
   "execution_count": 2,
   "metadata": {},
   "outputs": [],
   "source": [
    "system_model = mhk.default(\"MEwaveLCOECalculator\")\n",
    "financial_model = mhk.from_existing(system_model, \"MEwaveLCOECalculator\")\n",
    "#system_model.unassign(\"wave_resource_matrix\")\n",
    "wavefile_model = wavefile.default(\"MEwaveLCOECalculator\")"
   ]
  },
  {
   "cell_type": "code",
   "execution_count": 3,
   "metadata": {},
   "outputs": [],
   "source": [
    "#Read in Probability distribution filename\n",
    "wavefile_model.WeatherReader.wave_resource_filename = \"CalWave_California_Wave Resource _SAM CSV.csv\"\n",
    "wavefile_model.WeatherReader.wave_resource_model_choice = 0\n",
    "wavefile_model.execute() #Read in resource file, output matrix to pass to wave performance module"
   ]
  },
  {
   "cell_type": "code",
   "execution_count": 7,
   "metadata": {},
   "outputs": [
    {
     "name": "stdout",
     "output_type": "stream",
     "text": [
      "60785058.94919998 kWh\n"
     ]
    }
   ],
   "source": [
    "wave_resource_matrix = wavefile_model.Outputs.wave_resource_matrix #21x22 matrix output of WaveFileReader\n",
    "system_model.MHKWave.wave_resource_model_choice = wavefile_model.WeatherReader.wave_resource_model_choice #Same input for file reader and performance model\n",
    "system_model.MHKWave.wave_resource_matrix = wave_resource_matrix #pass in matrix as input\n",
    "system_model.execute()\n",
    "print(system_model.Outputs.annual_energy, \"kWh\")"
   ]
  }
 ],
 "metadata": {
  "kernelspec": {
   "display_name": "Python 3",
   "language": "python",
   "name": "python3"
  },
  "language_info": {
   "codemirror_mode": {
    "name": "ipython",
    "version": 3
   },
   "file_extension": ".py",
   "mimetype": "text/x-python",
   "name": "python",
   "nbconvert_exporter": "python",
   "pygments_lexer": "ipython3",
   "version": "3.7.6"
  }
 },
 "nbformat": 4,
 "nbformat_minor": 4
}
