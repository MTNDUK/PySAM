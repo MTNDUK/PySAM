{
 "cells": [
  {
   "cell_type": "code",
   "execution_count": 1,
   "metadata": {},
   "outputs": [
    {
     "ename": "FileNotFoundError",
     "evalue": "[Errno 2] No such file or directory: 'untitled_pvwattsv8.json'",
     "output_type": "error",
     "traceback": [
      "\u001b[1;31m---------------------------------------------------------------------------\u001b[0m",
      "\u001b[1;31mFileNotFoundError\u001b[0m                         Traceback (most recent call last)",
      "\u001b[1;32m<ipython-input-1-f8ba419ce4d4>\u001b[0m in \u001b[0;36m<module>\u001b[1;34m\u001b[0m\n\u001b[0;32m      7\u001b[0m \u001b[1;33m\u001b[0m\u001b[0m\n\u001b[0;32m      8\u001b[0m \u001b[1;31m# get the inputs from the JSON file\u001b[0m\u001b[1;33m\u001b[0m\u001b[1;33m\u001b[0m\u001b[1;33m\u001b[0m\u001b[0m\n\u001b[1;32m----> 9\u001b[1;33m \u001b[1;32mwith\u001b[0m \u001b[0mopen\u001b[0m\u001b[1;33m(\u001b[0m \u001b[1;34m'untitled_pvwattsv8.json'\u001b[0m\u001b[1;33m,\u001b[0m \u001b[1;34m'r'\u001b[0m\u001b[1;33m)\u001b[0m \u001b[1;32mas\u001b[0m \u001b[0mf\u001b[0m\u001b[1;33m:\u001b[0m\u001b[1;33m\u001b[0m\u001b[1;33m\u001b[0m\u001b[0m\n\u001b[0m\u001b[0;32m     10\u001b[0m         \u001b[0mpv_inputs\u001b[0m \u001b[1;33m=\u001b[0m \u001b[0mjson\u001b[0m\u001b[1;33m.\u001b[0m\u001b[0mload\u001b[0m\u001b[1;33m(\u001b[0m \u001b[0mf\u001b[0m \u001b[1;33m)\u001b[0m\u001b[1;33m\u001b[0m\u001b[1;33m\u001b[0m\u001b[0m\n\u001b[0;32m     11\u001b[0m \u001b[1;33m\u001b[0m\u001b[0m\n",
      "\u001b[1;31mFileNotFoundError\u001b[0m: [Errno 2] No such file or directory: 'untitled_pvwattsv8.json'"
     ]
    }
   ],
   "source": [
    "import json\n",
    "import PySAM.Pvsamv1 as pv # import the PVWatts module from PySAM\n",
    "import PySAM.Battery as batt\n",
    "\n"
   ]
  },
  {
   "cell_type": "code",
   "execution_count": null,
   "metadata": {},
   "outputs": [],
   "source": [
    "# create a new instance of the PVsamv1 and battery model\n",
    "pv_model = pv.new()\n",
    "batt_model = batt.new()\n",
    "\n",
    "# get the inputs from the JSON file\n",
    "with open( 'untitled_pvbatt_res.json', 'r') as f:\n",
    "        pv_inputs = json.load( f )\n",
    "\n",
    "# iterate through the input key-value pairs and set the module inputs\n",
    "for k, v in pv_inputs.items():\n",
    "    if k != 'number_inputs':\n",
    "        pv_model.value(k, v)"
   ]
  },
  {
   "cell_type": "code",
   "execution_count": null,
   "metadata": {},
   "outputs": [],
   "source": [
    "# run the module\n",
    "pv_model.execute()\n",
    "\n",
    "# print results\n",
    "print('Annual AC output for {capacity:,.2f} kW system is {output:,.0f} kWh.\\n'.format(capacity = pv_model.value('system_capacity'), output = pv_model.Outputs.ac_annual) )\n",
    "\n",
    "# run PVWatts for a series of nameplate capacities\n",
    "capacities = [10, 100, 1000]\n",
    "for c in capacities:\n",
    "    # change the value of the system_capacity input\n",
    "    pv_model.value('system_capacity',c)\n",
    "    # run the module\n",
    "    pv_model.execute()\n",
    "    # print some results\n",
    "    print('Annual AC output for {capacity:,.2f} kW system is {output:,.0f} kWh.'.format(capacity = pv_model.value('system_capacity'), output = pv_model.Outputs.ac_annual) )"
   ]
  }
 ],
 "metadata": {
  "kernelspec": {
   "display_name": "Python 3",
   "language": "python",
   "name": "python3"
  },
  "language_info": {
   "codemirror_mode": {
    "name": "ipython",
    "version": 3
   },
   "file_extension": ".py",
   "mimetype": "text/x-python",
   "name": "python",
   "nbconvert_exporter": "python",
   "pygments_lexer": "ipython3",
   "version": "3.7.6"
  }
 },
 "nbformat": 4,
 "nbformat_minor": 4
}
