{
 "cells": [
  {
   "cell_type": "markdown",
   "metadata": {},
   "source": [
    "# PySAM Workshop\n",
    "\n",
    "## PVPMC Conference, Salt Lake City, Utah\n",
    "\n",
    "## May 10th, 2023\n",
    "\n",
    "Matt Prilliman (Github: mjprilliman)\n",
    "Nate Blair (n8blair)\n",
    "Brian Mirletz (brtietz)\n",
    "Darice Guittet (dguittet)\n",
    "Janine Keith (janinefreeman)\n",
    "\n",
    "https://sam.nrel.gov/software-development-kit-sdk/pysam.html"
   ]
  },
  {
   "cell_type": "markdown",
   "metadata": {},
   "source": [
    "## PySAM Overview\n",
    "\n",
    "PySAM is a Python package for the National Renewable Energy Laboratory’s System Advisor Model (SAM). It is part of the SAM Software Development Kit (SDK), which provides tools for developers who write code that interacts with the SAM Simulation Core (SSC) application programming interface (API).\n",
    "\n",
    "SSC, SAM, and PySAM are NREL open source code projects hosted on GitHub.com."
   ]
  },
  {
   "cell_type": "markdown",
   "metadata": {},
   "source": [
    "## How to Get Started\n",
    "\n",
    "64-bit Python 3.6 to 3.10 for Linux, Mac and Windows\n",
    "\n",
    "PyPi: \n",
    "```\n",
    "pip install nrel-pysam\n",
    "```\n",
    "\n",
    "Anaconda:\n",
    "```\n",
    "conda install -u nrel nrel-pysam\n",
    "```"
   ]
  },
  {
   "cell_type": "markdown",
   "metadata": {},
   "source": [
    "## Tutorial 1 Agenda\n",
    "\n",
    "1. Getting started with PySAM\n",
    "2. Set up solar resource data\n",
    "3. Design PV System\n",
    "4. Run Simulation, view outputs\n",
    "5. Extended analysis features"
   ]
  },
  {
   "cell_type": "code",
   "execution_count": 1,
   "metadata": {},
   "outputs": [
    {
     "name": "stdout",
     "output_type": "stream",
     "text": [
      "Requirement already satisfied: nrel-pysam in c:\\users\\mprillim\\anaconda3\\lib\\site-packages (4.1.0)\n",
      "Requirement already satisfied: pandas in c:\\users\\mprillim\\appdata\\roaming\\python\\python37\\site-packages (from nrel-pysam) (1.3.5)\n",
      "Requirement already satisfied: requests in c:\\users\\mprillim\\anaconda3\\lib\\site-packages (from nrel-pysam) (2.22.0)\n",
      "Requirement already satisfied: python-dotenv in c:\\users\\mprillim\\anaconda3\\lib\\site-packages (from nrel-pysam) (0.21.1)\n",
      "Requirement already satisfied: pytz>=2017.3 in c:\\users\\mprillim\\anaconda3\\lib\\site-packages (from pandas->nrel-pysam) (2019.3)\n",
      "Requirement already satisfied: python-dateutil>=2.7.3 in c:\\users\\mprillim\\anaconda3\\lib\\site-packages (from pandas->nrel-pysam) (2.8.1)\n",
      "Requirement already satisfied: numpy>=1.17.3; platform_machine != \"aarch64\" and platform_machine != \"arm64\" and python_version < \"3.10\" in c:\\users\\mprillim\\anaconda3\\lib\\site-packages (from pandas->nrel-pysam) (1.21.6)\n",
      "Requirement already satisfied: certifi>=2017.4.17 in c:\\users\\mprillim\\anaconda3\\lib\\site-packages (from requests->nrel-pysam) (2022.12.7)\n",
      "Requirement already satisfied: urllib3!=1.25.0,!=1.25.1,<1.26,>=1.21.1 in c:\\users\\mprillim\\anaconda3\\lib\\site-packages (from requests->nrel-pysam) (1.25.11)\n",
      "Requirement already satisfied: chardet<3.1.0,>=3.0.2 in c:\\users\\mprillim\\anaconda3\\lib\\site-packages (from requests->nrel-pysam) (3.0.4)\n",
      "Requirement already satisfied: idna<2.9,>=2.5 in c:\\users\\mprillim\\anaconda3\\lib\\site-packages (from requests->nrel-pysam) (2.8)\n",
      "Requirement already satisfied: six>=1.5 in c:\\users\\mprillim\\anaconda3\\lib\\site-packages (from python-dateutil>=2.7.3->pandas->nrel-pysam) (1.14.0)\n"
     ]
    }
   ],
   "source": [
    "# if running on Google Colaboratory, run this cell to install project dependencies\n",
    "!pip install nrel-pysam"
   ]
  },
  {
   "cell_type": "markdown",
   "metadata": {},
   "source": [
    "## Getting Started with PySAM\n",
    "\n",
    "Each technology and financial configuration is composed of unit modules. Module documentation is in [Modules](https://nrel-pysam.readthedocs.io/en/master/Models.html) or refer to [Module Index](https://nrel-pysam.readthedocs.io/en/master/py-modindex.html). \n",
    "\n",
    "Each module can be imported by:\n",
    "\n",
    "```\n",
    "import PySAM.<Module name>\n",
    "```\n",
    "\n",
    "There are four ways to initialize a model:\n",
    "\n",
    "1. new\n",
    "2. default\n",
    "3. from_existing\n",
    "4. wrap\n"
   ]
  },
  {
   "cell_type": "code",
   "execution_count": 25,
   "metadata": {},
   "outputs": [],
   "source": [
    "import PySAM.Pvsamv1 as pv\n",
    "import PySAM.Utilityrate5 as ur\n",
    "import PySAM.Lcoefcr as lcoe\n",
    "import PySAM.ResourceTools as resource_tools\n",
    "import PySAM.Battery as batt\n",
    "import PySAM.BatteryTools as batt_tools\n",
    "import matplotlib.pyplot as plt\n",
    "import numpy as np\n",
    "import json"
   ]
  },
  {
   "cell_type": "markdown",
   "metadata": {},
   "source": [
    "### Start model from new()\n",
    "\n",
    "Creates an instance with empty attributes."
   ]
  },
  {
   "cell_type": "code",
   "execution_count": 3,
   "metadata": {},
   "outputs": [
    {
     "name": "stdout",
     "output_type": "stream",
     "text": [
      "<class 'Pvsamv1'>\n"
     ]
    },
    {
     "data": {
      "text/plain": [
       "{'SolarResource': {},\n",
       " 'Losses': {},\n",
       " 'Lifetime': {},\n",
       " 'SystemDesign': {},\n",
       " 'Shading': {},\n",
       " 'Layout': {},\n",
       " 'Module': {},\n",
       " 'SimpleEfficiencyModuleModel': {},\n",
       " 'CECPerformanceModelWithModuleDatabase': {},\n",
       " 'CECPerformanceModelWithUserEnteredSpecifications': {},\n",
       " 'SandiaPVArrayPerformanceModelWithModuleDatabase': {},\n",
       " 'IEC61853SingleDiodeModel': {},\n",
       " 'MermoudLejeuneSingleDiodeModel': {},\n",
       " 'Inverter': {},\n",
       " 'InverterCECDatabase': {},\n",
       " 'InverterCECCoefficientGenerator': {},\n",
       " 'InverterDatasheet': {},\n",
       " 'InverterPartLoadCurve': {},\n",
       " 'InverterMermoudLejeuneModel': {},\n",
       " 'BatterySystem': {},\n",
       " 'Load': {},\n",
       " 'BatteryCell': {},\n",
       " 'BatteryDispatch': {},\n",
       " 'SystemCosts': {},\n",
       " 'FuelCell': {},\n",
       " 'PriceSignal': {},\n",
       " 'Revenue': {},\n",
       " 'ElectricityRates': {},\n",
       " 'GridLimits': {},\n",
       " 'AdjustmentFactors': {},\n",
       " 'Outputs': {}}"
      ]
     },
     "execution_count": 3,
     "metadata": {},
     "output_type": "execute_result"
    }
   ],
   "source": [
    "new_model = pv.new()\n",
    "print(type(new_model))\n",
    "new_model.export()"
   ]
  },
  {
   "cell_type": "markdown",
   "metadata": {},
   "source": [
    "### Default\n",
    "\n",
    "There is a lot of data needed to run a model. Entering that data with assignment statements in PySAM can be tedious. One way to get a full set of data is to load the default setup, which are the same as in SAM. A module's default values are unique for each SAM configuration type. \n",
    "\n",
    "Default config names are __case insensitive__. The list of options can be found on the module's PySAM doc page or as below:"
   ]
  },
  {
   "cell_type": "code",
   "execution_count": 4,
   "metadata": {},
   "outputs": [
    {
     "name": "stdout",
     "output_type": "stream",
     "text": [
      "Help on built-in function default in module PySAM.Pvsamv1:\n",
      "\n",
      "default(...)\n",
      "    default(config) -> Pvsamv1\n",
      "    \n",
      "    Load defaults for the configuration ``config``. Available configurations are:\n",
      "    \n",
      "                    - *\"FlatPlatePVAllEquityPartnershipFlip\"*\n",
      "    \n",
      "                    - *\"FlatPlatePVCommercial\"*\n",
      "    \n",
      "                    - *\"FlatPlatePVHostDeveloper\"*\n",
      "    \n",
      "                    - *\"FlatPlatePVLCOECalculator\"*\n",
      "    \n",
      "                    - *\"FlatPlatePVLeveragedPartnershipFlip\"*\n",
      "    \n",
      "                    - *\"FlatPlatePVMerchantPlant\"*\n",
      "    \n",
      "                    - *\"FlatPlatePVNone\"*\n",
      "    \n",
      "                    - *\"FlatPlatePVResidential\"*\n",
      "    \n",
      "                    - *\"FlatPlatePVSaleLeaseback\"*\n",
      "    \n",
      "                    - *\"FlatPlatePVSingleOwner\"*\n",
      "    \n",
      "                    - *\"FlatPlatePVThirdParty\"*\n",
      "    \n",
      "                    - *\"PVBatteryAllEquityPartnershipFlip\"*\n",
      "    \n",
      "                    - *\"PVBatteryCommercial\"*\n",
      "    \n",
      "                    - *\"PVBatteryHostDeveloper\"*\n",
      "    \n",
      "                    - *\"PVBatteryLeveragedPartnershipFlip\"*\n",
      "    \n",
      "                    - *\"PVBatteryMerchantPlant\"*\n",
      "    \n",
      "                    - *\"PVBatteryResidential\"*\n",
      "    \n",
      "                    - *\"PVBatterySaleLeaseback\"*\n",
      "    \n",
      "                    - *\"PVBatterySingleOwner\"*\n",
      "    \n",
      "                    - *\"PVBatteryThirdParty\"*\n",
      "    \n",
      "    .. note::\n",
      "    \n",
      "            Some inputs do not have default values and may be assigned a value from the variable's **Required** attribute. See variable attribute descriptions below.\n",
      "\n"
     ]
    }
   ],
   "source": [
    "# list configuration options\n",
    "help(pv.default)"
   ]
  },
  {
   "cell_type": "markdown",
   "metadata": {},
   "source": [
    "### Start from SAM GUI\n",
    "\n",
    "Often, new PySAM users often find it helpful to start with setting system inputs in the SAM graphical user interface before bringing said system into PySAM for further analysis. The process for this is shown in the [PySAM documentation](https://nrel-pysam.readthedocs.io/en/main/getting-started.html#example-1-build-a-model-from-sam). Today's example will use this process to start with. "
   ]
  },
  {
   "cell_type": "code",
   "execution_count": 7,
   "metadata": {},
   "outputs": [],
   "source": [
    "pv_model = pv.default(\"FlatPlatePVSingleOwner\")\n",
    "#pv_model.export()\n",
    "\n",
    "# create a new instance of the PVsamv1 and battery model\n",
    "pv_model = pv.new() #battery model runs from within pvsamv1\n",
    "#batt_model = batt.default('StandaloneBatteryResidential')\n",
    "\n",
    "# get the inputs from the JSON file\n",
    "with open( 'PV_utility_example_pvsamv1.json', 'r') as f:\n",
    "        pv_inputs = json.load( f )\n",
    "\n",
    "# iterate through the input key-value pairs and set the module inputs\n",
    "for k, v in pv_inputs.items():\n",
    "    if k != 'number_inputs':\n",
    "        pv_model.value(k, v)\n",
    "        "
   ]
  },
  {
   "cell_type": "markdown",
   "metadata": {},
   "source": [
    "## Solar resource data\n",
    "\n",
    "Solar resource data can be read from SAM formatted .csv files or from a Python dictionary. \n",
    "\n",
    "### solar_resource_file\n",
    "\n",
    "The solar resource information can be accessed and changed in the SolarResource class. Classes separate model inputs by categories to organize the model inputs. \n",
    "\n",
    "```\n",
    "pv_default_model.SolarResource.solar_resource_file = \"file_location/file_name.csv\"\n",
    "```\n",
    "\n",
    "or\n",
    "\n",
    "The variable can be accessed and changed through the use of the value() function:\n",
    "\n",
    "```\n",
    "pv_default_model.value('solar_resource_file', \"file_location/file_name.csv\")\n",
    "```\n",
    "The second input to value() is only used to overwrite the variable value. \n",
    "\n",
    "### solar_resource_data\n",
    "\n",
    "Solar resource data can also be imported as a dictionary of time series arrays through SolarResource.solar_resource_data\n",
    "\n",
    "\n",
    "### Helper functions\n",
    "\n",
    "ResourceTools.SAM_CSV_to_solar_data takes a weather file location (string) as input and returns a dictionary that can then be used as input to SolarResource.solar_resource_data\n",
    "\n",
    "```weather_data = ResourceTools.SAM_CSV_to_solar_data(\"file_location/file_name.csv\") ```\n",
    "\n",
    "ResourceTools.FetchResourceFiles pulls solar resource files from the [NREL developer network](https://developer.nrel.gov). See more information from the [PySAM Helper Function documentation](https://nrel-pysam.readthedocs.io/en/main/helper-tools.html). \n",
    "\n",
    "\n",
    "\n",
    "default_model.SolarResource.solar_resource_file = \"/Users/dguittet/SAM Downloaded Weather Files/weather.csv\""
   ]
  },
  {
   "cell_type": "code",
   "execution_count": 21,
   "metadata": {},
   "outputs": [
    {
     "ename": "AttributeError",
     "evalue": "'dict' object has no attribute 'pres'",
     "output_type": "error",
     "traceback": [
      "\u001b[1;31m---------------------------------------------------------------------------\u001b[0m",
      "\u001b[1;31mAttributeError\u001b[0m                            Traceback (most recent call last)",
      "\u001b[1;32m<ipython-input-21-3b3665d53232>\u001b[0m in \u001b[0;36m<module>\u001b[1;34m\u001b[0m\n\u001b[0;32m      7\u001b[0m \u001b[0mpv_model\u001b[0m\u001b[1;33m.\u001b[0m\u001b[0mSolarResource\u001b[0m\u001b[1;33m.\u001b[0m\u001b[0msolar_resource_data\u001b[0m \u001b[1;33m=\u001b[0m \u001b[0mweather_data\u001b[0m\u001b[1;33m\u001b[0m\u001b[1;33m\u001b[0m\u001b[0m\n\u001b[0;32m      8\u001b[0m \u001b[1;31m#See weather data\u001b[0m\u001b[1;33m\u001b[0m\u001b[1;33m\u001b[0m\u001b[1;33m\u001b[0m\u001b[0m\n\u001b[1;32m----> 9\u001b[1;33m \u001b[0mprint\u001b[0m\u001b[1;33m(\u001b[0m\u001b[0mpv_model\u001b[0m\u001b[1;33m.\u001b[0m\u001b[0mSolarResource\u001b[0m\u001b[1;33m.\u001b[0m\u001b[0msolar_resource_data\u001b[0m\u001b[1;33m.\u001b[0m\u001b[0mpres\u001b[0m\u001b[1;33m)\u001b[0m\u001b[1;33m\u001b[0m\u001b[1;33m\u001b[0m\u001b[0m\n\u001b[0m\u001b[0;32m     10\u001b[0m \u001b[1;31m#Unassign resource data to use weather file instead\u001b[0m\u001b[1;33m\u001b[0m\u001b[1;33m\u001b[0m\u001b[1;33m\u001b[0m\u001b[0m\n\u001b[0;32m     11\u001b[0m \u001b[0mpv_model\u001b[0m\u001b[1;33m.\u001b[0m\u001b[0munassign\u001b[0m\u001b[1;33m(\u001b[0m\u001b[1;34m\"solar_resource_data\"\u001b[0m\u001b[1;33m)\u001b[0m\u001b[1;33m\u001b[0m\u001b[1;33m\u001b[0m\u001b[0m\n",
      "\u001b[1;31mAttributeError\u001b[0m: 'dict' object has no attribute 'pres'"
     ]
    }
   ],
   "source": [
    "#Read solar resource data from file\n",
    "pv_model.SolarResource.solar_resource_file = \"phoenix_az_33.450495_-111.983688_psmv3_60_tmy.csv\"\n",
    "\n",
    "#Convert weather file to solar_resource_data dictionary\n",
    "weather_data = resource_tools.SAM_CSV_to_solar_data(\"phoenix_az_33.450495_-111.983688_psmv3_60_tmy.csv\")\n",
    "#Assign dictionary to case\n",
    "pv_model.SolarResource.solar_resource_data = weather_data\n",
    "#See weather data\n",
    "print(pv_model.SolarResource.solar_resource_data)\n",
    "#Unassign resource data to use weather file instead\n",
    "pv_model.unassign(\"solar_resource_data\")"
   ]
  },
  {
   "cell_type": "markdown",
   "metadata": {},
   "source": [
    "## PV System Design\n",
    "\n",
    "### Module model\n",
    "\n",
    "Similar to the SAM GUI, PySAM has a variety of different PV performance models to choose from:\n",
    "- CEC Performance model\n",
    "- Sandia Array Performance Model\n",
    "- Simple Efficiency Model\n",
    "- IEC61853 Single Diode Model\n",
    "- Mermoud - Lejeune Model *(not available in SAM GUI)\n",
    "\n",
    "The model being used for PV performance calculations must first be set using pv_model.Module.module_model: \n",
    "\n",
    "```\n",
    "pv_model.Module.module_model = 1\n",
    "\n",
    "0=spe,1=cec,2=6par_user,3=snl,4=sd11-iec61853,5=PVYield\n",
    "```\n",
    "Once the module model is selected, the associated Group of each model contains the inputs for the performance model. In this example, module_model=1 corresponds to the CECPerformanceModelWithModuleDatabase Group\n",
    "\n"
   ]
  },
  {
   "cell_type": "code",
   "execution_count": 7,
   "metadata": {},
   "outputs": [],
   "source": [
    "# Change module characteristics\n",
    "\n",
    "pv_model.Module.module_model = 1 #cec\n",
    "# make module bifacial: \n",
    "pv_model.CECPerformanceModelWithModuleDatabase.cec_is_bifacial = 1 #0 = mono, 1 = bifacial\n",
    "#change bifaciality \n",
    "pv_model.CECPerformanceModelWithModuleDatabase.cec_bifaciality = 0.70 \n",
    "\n",
    "#Not in SAM GUI: module_model=5, Mermoud-Lejeune model (PVSyst model)\n",
    "pv_model.Module.module_model = 5\n",
    "pv_model.MermoudLejeuneSingleDiodeModel.mlm_N_series = 60 #number of cells in series\n",
    "\n",
    "pv_model.Module.module_model = 1\n",
    "\n",
    "#SDK only feature - use custom module temperatures\n",
    "#pv_model.SystemDesign.use_measured_temp = 1 #0 = no, 1 = yes\n",
    "#pv_model.SystemDesign.measured_temp_array = [] #array of module temperatures (degC)"
   ]
  },
  {
   "cell_type": "markdown",
   "metadata": {},
   "source": [
    "### Inverter Model\n",
    "\n",
    "Similar to module modeling, SAM has different inverter modeling options including the Mermoud - Lejeune inverter model used in PVSyst\n",
    "```\n",
    "pv_model.Inverter.inverter_model = 1\n",
    "\n",
    "0=cec,1=datasheet,2=partload,3=coefficientgenerator,4=PVYield\n",
    "```\n"
   ]
  },
  {
   "cell_type": "code",
   "execution_count": 8,
   "metadata": {},
   "outputs": [
    {
     "name": "stdout",
     "output_type": "stream",
     "text": [
      "99.0\n"
     ]
    }
   ],
   "source": [
    "# Change inverter characteristics\n",
    "pv_model.Inverter.inverter_model = 0\n",
    "\n",
    "print(pv_model.SystemDesign.inverter_count)"
   ]
  },
  {
   "cell_type": "code",
   "execution_count": 9,
   "metadata": {},
   "outputs": [
    {
     "name": "stdout",
     "output_type": "stream",
     "text": [
      "100001.0\n"
     ]
    }
   ],
   "source": [
    "### Overall system \n",
    "pv_model.SystemDesign.subarray1_track_mode = 1 # single-axis tracking\n",
    "pv_model.SystemDesign.subarray1_azimuth = 180 #System Azimuth (tracking E-W)\n",
    "pv_model.SystemDesign.subarray1_gcr = 0.3 #Ground coverage ratio\n",
    "print(pv_model.SystemDesign.system_capacity)"
   ]
  },
  {
   "cell_type": "markdown",
   "metadata": {},
   "source": [
    "### Execute simulation\n",
    "\n",
    "Once the variables are setup, the PV simulation can be run using: \n",
    "```\n",
    "pv_model.execute()\n",
    "```\n",
    "\n",
    "Once the model is run, outputs can be accessed from the Outputs group:\n",
    "```\n",
    "print(pv_model.Outputs.annual_energy)\n",
    "```\n"
   ]
  },
  {
   "cell_type": "code",
   "execution_count": 10,
   "metadata": {},
   "outputs": [
    {
     "name": "stdout",
     "output_type": "stream",
     "text": [
      "230043899.48568156\n"
     ]
    },
    {
     "data": {
      "image/png": "[encoded data removed]",
      "text/plain": [
       "<Figure size 432x288 with 1 Axes>"
      ]
     },
     "metadata": {
      "needs_background": "light"
     },
     "output_type": "display_data"
    }
   ],
   "source": [
    "#Execute model\n",
    "pv_model.execute()\n",
    "\n",
    "#Print annual energy\n",
    "print(pv_model.Outputs.annual_energy)\n",
    "\n",
    "#Plot hourly power production from system\n",
    "# Data for plotting\n",
    "power = pv_model.Outputs.gen\n",
    "\n",
    "fig, plt.subplots()\n",
    "ax.plot(power[0:8761])\n",
    "\n",
    "ax.set(xlabel='Hour (h)', ylabel='Power (kW)',\n",
    "       title='Plot of hourly PV generation')\n",
    "ax.grid()\n",
    "\n",
    "fig.savefig(\"test.png\")\n",
    "plt.show()"
   ]
  },
  {
   "cell_type": "code",
   "execution_count": 18,
   "metadata": {},
   "outputs": [
    {
     "name": "stdout",
     "output_type": "stream",
     "text": [
      "0.026951377601673376 cents/kWh\n"
     ]
    }
   ],
   "source": [
    "# Connect to LCOE fixed charge rate calculator\n",
    "lcoe_model = lcoe.default('FlatPlatePVLCOECalculator')\n",
    "#Set capital cost\n",
    "lcoe_model.SimpleLCOE.capital_cost = 100000000.0 #$\n",
    "#Set annual operating cost \n",
    "lcoe_model.SimpleLCOE.fixed_operating_cost = 1200000.0 #$\n",
    "#Set fixed charge rate (FCR)\n",
    "lcoe_model.SimpleLCOE.fixed_charge_rate = 0.05\n",
    "#Set annual energy\n",
    "lcoe_model.SimpleLCOE.annual_energy = pv_model.Outputs.annual_energy\n",
    "#Run model\n",
    "lcoe_model.execute()\n",
    "#Print LCOE output\n",
    "print(lcoe_model.Outputs.lcoe_fcr, \"cents/kWh\")"
   ]
  },
  {
   "cell_type": "code",
   "execution_count": 19,
   "metadata": {},
   "outputs": [
    {
     "name": "stdout",
     "output_type": "stream",
     "text": [
      "[237933963.55523822, 240687761.55289537, 242504552.23794305, 243552445.71269906, 243702920.37948006, 243388441.16057783, 242408571.1094847, 240655594.90925968] kWh\n",
      "[0.026057650229327694, 0.025759514983222116, 0.02556653037142421, 0.025456529421649433, 0.025440811256367872, 0.025473683016481015, 0.02557665338161557, 0.025762958066018533] cents/kWh\n"
     ]
    }
   ],
   "source": [
    "#Parametric analysis\n",
    "lcoe_bin = []\n",
    "annual_energy_bin = []\n",
    "#Analyze effect of tilt angle on annual energy\n",
    "tilt_angles = [10, 15, 20, 25, 30, 35, 40, 45]\n",
    "\n",
    "for i in tilt_angles:\n",
    "    #Set tilt angle\n",
    "    pv_model.SystemDesign.subarray1_tilt = i\n",
    "    #Run model\n",
    "    pv_model.execute()\n",
    "    #Save annual energy result\n",
    "    annual_energy_bin.append(pv_model.Outputs.annual_energy)\n",
    "    #Update LCOE annual energy\n",
    "    lcoe_model.SimpleLCOE.annual_energy = pv_model.Outputs.annual_energy\n",
    "    #Run LCOE model\n",
    "    lcoe_model.execute()\n",
    "    #Save LCOE result\n",
    "    lcoe_bin.append(lcoe_model.Outputs.lcoe_fcr)\n",
    "    \n",
    "print(annual_energy_bin, \"kWh\")\n",
    "print(lcoe_bin, \"cents/kWh\")"
   ]
  },
  {
   "cell_type": "code",
   "execution_count": 23,
   "metadata": {},
   "outputs": [],
   "source": [
    "# create a new instance of the PVsamv1 and battery model\n",
    "pv_batt_model = pv.new() #battery model runs from within pvsamv1\n",
    "#batt_model = batt.default('StandaloneBatteryResidential')\n",
    "\n",
    "# get the inputs from the JSON file\n",
    "with open( 'PV_battery_commercial_example_pvsamv1.json', 'r') as f:\n",
    "        pv_batt_inputs = json.load( f )\n",
    "\n",
    "\n",
    "# iterate through the input key-value pairs and set the module inputs\n",
    "for k, v in pv_batt_inputs.items():\n",
    "    if k != 'number_inputs':\n",
    "        pv_batt_model.value(k, v)"
   ]
  },
  {
   "cell_type": "markdown",
   "metadata": {},
   "source": [
    "### Battery Sizing Helper Function\n",
    "\n",
    "There are special PySAM functions that can assist with certain parts of the model. The first we will cover is the battery modeling helper functions. This model takes the battery model and desired battery bank power (kW), capacity (kWh), and battery cell voltage values (with other optional battery specifications) to size the battery inputs for your system\n",
    "\n",
    "For more information, see the [Battery Tools documentation](https://nrel-pysam.readthedocs.io/en/main/helper-tools.html#battery-tools)\n",
    "\n",
    "\n",
    "```\n",
    "files.BatteryTools.battery_model_sizing(model, desired_power, desired_capacity, desired_voltage, size_by_ac_not_dc=None, module_specs: dict = None, tol=0.05)\n",
    "```\n",
    "\n"
   ]
  },
  {
   "cell_type": "code",
   "execution_count": 26,
   "metadata": {},
   "outputs": [],
   "source": [
    "# Battery helper function\n",
    "# Battery with 6 kW, 12.5 kWh, 3.6 V cells\n",
    "batt_tools.battery_model_sizing(pv_batt_model, 6, 12.5, 3.6)\n",
    "pv_batt_model.SolarResource.solar_resource_file = \"phoenix_az_33.450495_-111.983688_psmv3_60_tmy.csv\"\n",
    "pv_batt_model.execute()"
   ]
  }
 ],
 "metadata": {
  "kernelspec": {
   "display_name": "Python 3",
   "language": "python",
   "name": "python3"
  },
  "language_info": {
   "codemirror_mode": {
    "name": "ipython",
    "version": 3
   },
   "file_extension": ".py",
   "mimetype": "text/x-python",
   "name": "python",
   "nbconvert_exporter": "python",
   "pygments_lexer": "ipython3",
   "version": "3.7.6"
  }
 },
 "nbformat": 4,
 "nbformat_minor": 4
}
